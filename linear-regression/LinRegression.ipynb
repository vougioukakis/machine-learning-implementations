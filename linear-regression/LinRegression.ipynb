{
 "cells": [
  {
   "cell_type": "code",
   "execution_count": 63,
   "metadata": {},
   "outputs": [],
   "source": [
    "import numpy as np\n",
    "import pandas as pd\n",
    "import matplotlib.pyplot as plt\n",
    "import seaborn as sns"
   ]
  },
  {
   "cell_type": "markdown",
   "metadata": {},
   "source": [
    "### loading data"
   ]
  },
  {
   "cell_type": "code",
   "execution_count": 64,
   "metadata": {},
   "outputs": [
    {
     "data": {
      "text/html": [
       "<div>\n",
       "<style scoped>\n",
       "    .dataframe tbody tr th:only-of-type {\n",
       "        vertical-align: middle;\n",
       "    }\n",
       "\n",
       "    .dataframe tbody tr th {\n",
       "        vertical-align: top;\n",
       "    }\n",
       "\n",
       "    .dataframe thead th {\n",
       "        text-align: right;\n",
       "    }\n",
       "</style>\n",
       "<table border=\"1\" class=\"dataframe\">\n",
       "  <thead>\n",
       "    <tr style=\"text-align: right;\">\n",
       "      <th></th>\n",
       "      <th>hp</th>\n",
       "      <th>weight</th>\n",
       "      <th>cylinders</th>\n",
       "      <th>ccm</th>\n",
       "      <th>km/l</th>\n",
       "    </tr>\n",
       "  </thead>\n",
       "  <tbody>\n",
       "    <tr>\n",
       "      <th>0</th>\n",
       "      <td>180.0</td>\n",
       "      <td>1986.7</td>\n",
       "      <td>8</td>\n",
       "      <td>5735.5</td>\n",
       "      <td>7.01</td>\n",
       "    </tr>\n",
       "    <tr>\n",
       "      <th>1</th>\n",
       "      <td>150.0</td>\n",
       "      <td>2021.7</td>\n",
       "      <td>8</td>\n",
       "      <td>5211.1</td>\n",
       "      <td>5.95</td>\n",
       "    </tr>\n",
       "    <tr>\n",
       "      <th>2</th>\n",
       "      <td>105.0</td>\n",
       "      <td>1767.6</td>\n",
       "      <td>6</td>\n",
       "      <td>4096.8</td>\n",
       "      <td>6.80</td>\n",
       "    </tr>\n",
       "    <tr>\n",
       "      <th>3</th>\n",
       "      <td>193.0</td>\n",
       "      <td>2146.4</td>\n",
       "      <td>8</td>\n",
       "      <td>4981.7</td>\n",
       "      <td>3.83</td>\n",
       "    </tr>\n",
       "    <tr>\n",
       "      <th>4</th>\n",
       "      <td>110.0</td>\n",
       "      <td>1378.5</td>\n",
       "      <td>6</td>\n",
       "      <td>3785.4</td>\n",
       "      <td>8.93</td>\n",
       "    </tr>\n",
       "  </tbody>\n",
       "</table>\n",
       "</div>"
      ],
      "text/plain": [
       "      hp  weight  cylinders     ccm  km/l\n",
       "0  180.0  1986.7          8  5735.5  7.01\n",
       "1  150.0  2021.7          8  5211.1  5.95\n",
       "2  105.0  1767.6          6  4096.8  6.80\n",
       "3  193.0  2146.4          8  4981.7  3.83\n",
       "4  110.0  1378.5          6  3785.4  8.93"
      ]
     },
     "execution_count": 64,
     "metadata": {},
     "output_type": "execute_result"
    }
   ],
   "source": [
    "data = pd.read_csv('car_train.txt',  sep='\\s+', skiprows=1) #delim_whitespace=True,\n",
    "data.columns = [\"hp\", \"weight\", \"cylinders\", \"ccm\", \"km/l\"]\n",
    "data.head()"
   ]
  },
  {
   "cell_type": "code",
   "execution_count": 65,
   "metadata": {},
   "outputs": [
    {
     "data": {
      "text/plain": [
       "0    7.01\n",
       "1    5.95\n",
       "2    6.80\n",
       "3    3.83\n",
       "4    8.93\n",
       "Name: km/l, dtype: float64"
      ]
     },
     "execution_count": 65,
     "metadata": {},
     "output_type": "execute_result"
    }
   ],
   "source": [
    "y_train = data['km/l']\n",
    "y_train.head()"
   ]
  },
  {
   "cell_type": "code",
   "execution_count": 66,
   "metadata": {},
   "outputs": [
    {
     "data": {
      "text/html": [
       "<div>\n",
       "<style scoped>\n",
       "    .dataframe tbody tr th:only-of-type {\n",
       "        vertical-align: middle;\n",
       "    }\n",
       "\n",
       "    .dataframe tbody tr th {\n",
       "        vertical-align: top;\n",
       "    }\n",
       "\n",
       "    .dataframe thead th {\n",
       "        text-align: right;\n",
       "    }\n",
       "</style>\n",
       "<table border=\"1\" class=\"dataframe\">\n",
       "  <thead>\n",
       "    <tr style=\"text-align: right;\">\n",
       "      <th></th>\n",
       "      <th>hp</th>\n",
       "      <th>weight</th>\n",
       "      <th>cylinders</th>\n",
       "      <th>ccm</th>\n",
       "    </tr>\n",
       "  </thead>\n",
       "  <tbody>\n",
       "    <tr>\n",
       "      <th>0</th>\n",
       "      <td>180.0</td>\n",
       "      <td>1986.7</td>\n",
       "      <td>8</td>\n",
       "      <td>5735.5</td>\n",
       "    </tr>\n",
       "    <tr>\n",
       "      <th>1</th>\n",
       "      <td>150.0</td>\n",
       "      <td>2021.7</td>\n",
       "      <td>8</td>\n",
       "      <td>5211.1</td>\n",
       "    </tr>\n",
       "    <tr>\n",
       "      <th>2</th>\n",
       "      <td>105.0</td>\n",
       "      <td>1767.6</td>\n",
       "      <td>6</td>\n",
       "      <td>4096.8</td>\n",
       "    </tr>\n",
       "    <tr>\n",
       "      <th>3</th>\n",
       "      <td>193.0</td>\n",
       "      <td>2146.4</td>\n",
       "      <td>8</td>\n",
       "      <td>4981.7</td>\n",
       "    </tr>\n",
       "    <tr>\n",
       "      <th>4</th>\n",
       "      <td>110.0</td>\n",
       "      <td>1378.5</td>\n",
       "      <td>6</td>\n",
       "      <td>3785.4</td>\n",
       "    </tr>\n",
       "  </tbody>\n",
       "</table>\n",
       "</div>"
      ],
      "text/plain": [
       "      hp  weight  cylinders     ccm\n",
       "0  180.0  1986.7          8  5735.5\n",
       "1  150.0  2021.7          8  5211.1\n",
       "2  105.0  1767.6          6  4096.8\n",
       "3  193.0  2146.4          8  4981.7\n",
       "4  110.0  1378.5          6  3785.4"
      ]
     },
     "execution_count": 66,
     "metadata": {},
     "output_type": "execute_result"
    }
   ],
   "source": [
    "x_train = data.drop([\"km/l\"],axis=1)\n",
    "x_train.head()"
   ]
  },
  {
   "cell_type": "code",
   "execution_count": 67,
   "metadata": {},
   "outputs": [],
   "source": [
    "data_test = pd.read_csv('car_test.txt', sep='\\s+', skiprows=1)\n",
    "data_test.columns = [\"hp\", \"weight\", \"cylinders\", \"ccm\", \"km/l\"]\n",
    "y_test = data_test['km/l']\n",
    "x_test = data_test.drop([\"km/l\"],axis=1)"
   ]
  },
  {
   "cell_type": "markdown",
   "metadata": {},
   "source": [
    "### normalization"
   ]
  },
  {
   "cell_type": "code",
   "execution_count": 68,
   "metadata": {},
   "outputs": [],
   "source": [
    "def normalize(data, target, test_data, test_target):\n",
    "    \"\"\"\n",
    "    makes the data follow a standard normal\n",
    "\n",
    "    params\n",
    "    ------\n",
    "    dataframes of train and test data \n",
    "    x traain, y train, x test, y test\n",
    "\n",
    "    returns \n",
    "    -------\n",
    "    np.ndarray, np.ndarray : normalized train data, normalized test data\n",
    "    \"\"\"\n",
    "    data = data.to_numpy()\n",
    "    test_data = test_data.to_numpy()\n",
    "    target = target.to_numpy()\n",
    "    test_target = test_target.to_numpy()\n",
    "\n",
    "\n",
    "    mean = [] # means of each feature of the train set\n",
    "    std = [] # standard deviations of each feature of the train set\n",
    "\n",
    "    # for each column ( feature )\n",
    "    for i in range(data.shape[1]):\n",
    "        mean.append(np.mean(data[:,i])) # mean \n",
    "        std.append(np.std(data[:,i])) # std\n",
    "\n",
    "    target_mean = np.mean(target) # mean\n",
    "    target_std = np.std(target) # std\n",
    "\n",
    "\n",
    "    # normalize the matrices\n",
    "    data = (data - mean)/std\n",
    "    test_data = (test_data - mean)/std\n",
    "\n",
    "    target = (target - target_mean)/target_std\n",
    "    test_target = (test_target - target_mean)/target_std\n",
    "\n",
    "    return data, target, test_data, test_target\n"
   ]
  },
  {
   "cell_type": "code",
   "execution_count": 69,
   "metadata": {},
   "outputs": [],
   "source": [
    "x_train, y_train, x_test, y_test = normalize(x_train, y_train, x_test, y_test)"
   ]
  },
  {
   "cell_type": "markdown",
   "metadata": {},
   "source": [
    "# 1. linear regression - gradient descent"
   ]
  },
  {
   "cell_type": "markdown",
   "metadata": {},
   "source": [
    "Loss function:\n",
    "$$\n",
    "L(\\theta) = \\frac{1}{2n} \\sum_{i=1}^{n} (h_{\\theta}(x^{(i)}) - y^{(i)})^2\n",
    "$$\n",
    "\n",
    "Derivative of the loss function:\n",
    "$$\n",
    "\\frac{d L(\\theta)}{d \\theta} = \\frac{1}{n} \\sum_{i=1}^{n} (h_{\\theta}(x^{(i)}) - y^{(i)})x^{(i)}\n",
    "$$\n",
    "\n",
    "$x^{(i)}$ is the instance i from the data, \n",
    "$h_{\\theta}(x^{(i)})$ is the predicted value of the instance $x^{(i)}$, \n",
    "$y^{(i)}$ is the actual value of the instance $x^{(i)}$\n",
    "\n",
    "Our training set has $k$ features and $n$ instances\n",
    "\n",
    "$$\n",
    "=\\frac{1}{n} \\sum_{i=1}^{n} (y_{pred}^{(i)} - y^{(i)}) \\begin{bmatrix} 1\\\\ x_1^{(i)} \\\\ \\vdots \\\\ x_k^{(i)} \\end{bmatrix}\n",
    "=\\frac{1}{n} \\begin{pmatrix} 1 & 1 & ... & 1 \\\\ x_1^{(1)} & x_1^{(2)} & ... & x_1^{(n)} \\\\ \\vdots \\\\  x_k^{(1)} & x_k^{(2)} & ... & x_k^{(n)}   \\end{pmatrix} \n",
    "\\begin{bmatrix} y_{pred}^{(0)} - y^{(0)} \\\\ y_{pred}^{(1)} - y^{(1)} \\\\ ... \\\\ y_{pred}^{(n)} - y^{(n)}\\end{bmatrix} \n",
    "$$\n",
    "\n",
    "$$= \\frac{1}{n}X_{\\text{train}}^T  (\\mathbf{y}_{\\text{pred}} - \\mathbf{y}_{\\text{train}}) \n",
    "$$\n",
    "\n",
    "\n",
    "where $X_{\\text{train}}$ is the training data matrix\n",
    "and $\\mathbf{y}_{\\text{pred}}$ is the prediction vector\n",
    "\n"
   ]
  },
  {
   "cell_type": "code",
   "execution_count": 70,
   "metadata": {},
   "outputs": [],
   "source": [
    "def loss(theta, x_train, y_train):\n",
    "    \"\"\"linear regression loss function\"\"\"\n",
    "    n = len(y_train)\n",
    "    y_pred = np.dot(x_train, theta) # matrix * theta\n",
    "    loss = np.sum((y_pred - y_train) ** 2) / (2 * n)\n",
    "    return loss\n",
    "\n",
    "def grad(theta, x_train, y_train):\n",
    "    \"\"\"gradient(theta, x_train, y_train)\"\"\"\n",
    "    n = len(y_train)\n",
    "    y_pred = np.dot(x_train, theta) # matrix * theta\n",
    "    grad = np.dot(x_train.T, (y_pred - y_train)) / n  \n",
    "    return grad"
   ]
  },
  {
   "cell_type": "code",
   "execution_count": 71,
   "metadata": {},
   "outputs": [],
   "source": [
    "def plot_losses(losses):\n",
    "    \"\"\"\n",
    "    plotting the loss function in gradient descent\n",
    "    \"\"\"\n",
    "    iters = pd.Series(range(len(losses)))\n",
    "    losses = pd.DataFrame(losses)\n",
    "    losses.set_index([iters])\n",
    "    losses.columns = [\"loss\"]\n",
    "    sns.set_theme()\n",
    "    fig = sns.lineplot(data=losses, x=losses.index, y=\"loss\")\n",
    "    fig.set(xlabel=\"Iterations\", ylabel=\"Loss\")\n",
    "    plt.show()\n",
    "    "
   ]
  },
  {
   "cell_type": "code",
   "execution_count": 72,
   "metadata": {},
   "outputs": [],
   "source": [
    "def gradient_descent(x_train, y_train, epsilon=1e-3, delta=1e-3):\n",
    "    \"\"\"\n",
    "    standardize before using, call standardize()\n",
    "\n",
    "    parameters\n",
    "    ----------\n",
    "    x_train : training data\n",
    "    y_train : labels\n",
    "    \n",
    "    returns\n",
    "    -------\n",
    "    parameter vector\n",
    "    \"\"\"\n",
    "    # learning rate\n",
    "    L = 0.02\n",
    "    \n",
    "    # initialize theta to zeros\n",
    "    theta = np.ones(5)\n",
    "    theta_old = np.zeros(5)\n",
    "\n",
    "    # adding a column of 1 to the left of x_train\n",
    "    col_ones = np.ones(x_train.shape[0])\n",
    "    x_train = np.column_stack((col_ones, x_train))\n",
    "    # n = 5\n",
    "    n = x_train.shape[1]\n",
    "\n",
    "    losses = []\n",
    "    iters = 0\n",
    "    while abs(loss(theta, x_train, y_train)) > delta and abs(np.linalg.norm(theta-theta_old,2)) > epsilon and iters < 1000:\n",
    "        theta_old = theta.copy()\n",
    "        theta = theta - L * grad(theta, x_train, y_train)\n",
    "        losses.append(loss(theta, x_train, y_train))\n",
    "        #print(f'\\n\\n old theta = {theta_old},\\n theta = {theta}')\n",
    "        iters += 1\n",
    "\n",
    "    print(\"Gradient descent results:\")\n",
    "    print(f'  loss = {loss(theta, x_train, y_train)},\\n  |thetaold - thetanew| = {abs(np.linalg.norm(theta-theta_old,2))}\\n  iters = {iters}\\n  learning rate = {L}')\n",
    "\n",
    "    print(f\"Theta = {theta}\")\n",
    "    plot_losses(losses)\n",
    "    return theta    \n"
   ]
  },
  {
   "cell_type": "code",
   "execution_count": 73,
   "metadata": {},
   "outputs": [
    {
     "name": "stdout",
     "output_type": "stream",
     "text": [
      "Gradient descent results:\n",
      "  loss = 0.14595412415200934,\n",
      "  |thetaold - thetanew| = 0.0009890956483028326\n",
      "  iters = 160\n",
      "  learning rate = 0.02\n",
      "Theta = [ 0.03946137 -0.19817762 -0.29969781 -0.15834542 -0.21645123]\n"
     ]
    },
    {
     "data": {
      "image/png": "[encoded data removed]",
      "text/plain": [
       "<Figure size 640x480 with 1 Axes>"
      ]
     },
     "metadata": {},
     "output_type": "display_data"
    }
   ],
   "source": [
    "theta = gradient_descent(x_train, y_train)"
   ]
  },
  {
   "cell_type": "markdown",
   "metadata": {},
   "source": [
    "## my linear regression error"
   ]
  },
  {
   "cell_type": "code",
   "execution_count": 74,
   "metadata": {},
   "outputs": [],
   "source": [
    "def predict(test_data, coefficients):\n",
    "    \"\"\"\n",
    "    fits linear regression model with given coefficients to given test data\n",
    "\n",
    "    params\n",
    "    ------\n",
    "    test_data : test data\n",
    "    coefficients : coefficients of linear regression model ( theta)\n",
    "\n",
    "    returns\n",
    "    -------\n",
    "    predictions vector y_pred\n",
    "\n",
    "    \"\"\"\n",
    "    intercept = coefficients[0]\n",
    "    coefficients = coefficients[1:]\n",
    "    return np.dot(test_data, coefficients) + intercept\n",
    "\n",
    "def error(y_true, y_pred):\n",
    "    \"\"\"2-norm difference of 2 vectors\"\"\"\n",
    "    return np.linalg.norm((y_true - y_pred),2)"
   ]
  },
  {
   "cell_type": "code",
   "execution_count": 75,
   "metadata": {},
   "outputs": [
    {
     "name": "stdout",
     "output_type": "stream",
     "text": [
      "5.362352376841269\n"
     ]
    }
   ],
   "source": [
    "y_pred = predict(x_test, theta)\n",
    "print(error(y_test, y_pred))"
   ]
  },
  {
   "cell_type": "markdown",
   "metadata": {},
   "source": [
    "## sklearn error"
   ]
  },
  {
   "cell_type": "code",
   "execution_count": 76,
   "metadata": {},
   "outputs": [
    {
     "name": "stdout",
     "output_type": "stream",
     "text": [
      "5.140307249931667\n"
     ]
    }
   ],
   "source": [
    "from sklearn.linear_model import LinearRegression\n",
    "lr = LinearRegression()\n",
    "lr.fit(x_train, y_train)\n",
    "y_pred = lr.predict(x_test)\n",
    "print(error(y_test, y_pred))"
   ]
  }
 ],
 "metadata": {
  "kernelspec": {
   "display_name": "Python 3 (ipykernel)",
   "language": "python",
   "name": "python3"
  },
  "language_info": {
   "codemirror_mode": {
    "name": "ipython",
    "version": 3
   },
   "file_extension": ".py",
   "mimetype": "text/x-python",
   "name": "python",
   "nbconvert_exporter": "python",
   "pygments_lexer": "ipython3",
   "version": "3.11.7"
  }
 },
 "nbformat": 4,
 "nbformat_minor": 4
}
